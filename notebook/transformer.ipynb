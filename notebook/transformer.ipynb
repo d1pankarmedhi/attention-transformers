{
 "cells": [
  {
   "cell_type": "markdown",
   "metadata": {},
   "source": [
    "## Text Encoding"
   ]
  },
  {
   "cell_type": "code",
   "execution_count": 42,
   "metadata": {},
   "outputs": [
    {
     "name": "stdout",
     "output_type": "stream",
     "text": [
      "Length of dataset in characters: 1338608\n"
     ]
    }
   ],
   "source": [
    "with open(\"../data.txt\", \"r\", encoding='utf-8') as f:\n",
    "    text = f.read()\n",
    "\n",
    "print(f\"Length of dataset in characters: {len(text)}\")"
   ]
  },
  {
   "cell_type": "code",
   "execution_count": 43,
   "metadata": {},
   "outputs": [
    {
     "name": "stdout",
     "output_type": "stream",
     "text": [
      "Pro-Israel rallies allowed in India but Palestine solidarity sees crackdown\n",
      "PM Hasina’s war on terror gets daughter India’s vote in WHO\n",
      "India leads in migration to 'high-income' countries - report\n",
      "Ind\n"
     ]
    }
   ],
   "source": [
    "## sample data\n",
    "print(f\"{text[:200]}\")"
   ]
  },
  {
   "cell_type": "markdown",
   "metadata": {},
   "source": []
  },
  {
   "cell_type": "code",
   "execution_count": 3,
   "metadata": {},
   "outputs": [
    {
     "name": "stdout",
     "output_type": "stream",
     "text": [
      "All unique characters: \n",
      " !\"#$%&'()+,-./0123456789:;=?@ABCDEFGHIJKLMNOPQRSTUVWXYZabcdefghijklmnopqrstuvwxyz| £°Æàáçéíïñóúüġūʻ​–—‘’“”…€₹❤️\n",
      "Total number of characters: 113\n"
     ]
    }
   ],
   "source": [
    "## Get all the unique characters\n",
    "chars = sorted(list(set(text)))\n",
    "vocab_size = len(chars)\n",
    "print(f\"All unique characters: {''.join(chars)}\")\n",
    "print(f\"Total number of characters: {vocab_size}\")"
   ]
  },
  {
   "cell_type": "code",
   "execution_count": 4,
   "metadata": {},
   "outputs": [
    {
     "name": "stdout",
     "output_type": "stream",
     "text": [
      "Encoded : [38, 61, 68, 68, 71, 1, 76, 64, 61, 74, 61, 2]\n",
      "Decoded: Hello there!\n"
     ]
    }
   ],
   "source": [
    "# Mapping char to int\n",
    "stoi = { ch:i for i,ch in enumerate(chars) }\n",
    "itos = { i:ch for i,ch in enumerate(chars) }\n",
    "encode = lambda s: [stoi[c] for c in s] # encoder: take a string, output a list of integers\n",
    "decode = lambda l: ''.join([itos[i] for i in l]) # decoder: take a list of integers, output a string\n",
    "\n",
    "print(f\"Encoded : {encode('Hello there!')}\")\n",
    "print(f\"Decoded: {decode(encode('Hello there!'))}\")"
   ]
  },
  {
   "cell_type": "code",
   "execution_count": 5,
   "metadata": {},
   "outputs": [
    {
     "name": "stdout",
     "output_type": "stream",
     "text": [
      "Shape: torch.Size([1338608]), Type: torch.int64\n",
      "Sample : tensor([ 46,  74,  71,  13,  39,  75,  74,  57,  61,  68,   1,  74,  57,  68,\n",
      "         68,  65,  61,  75,   1,  57,  68,  68,  71,  79,  61,  60,   1,  65,\n",
      "         70,   1,  39,  70,  60,  65,  57,   1,  58,  77,  76,   1,  46,  57,\n",
      "         68,  61,  75,  76,  65,  70,  61,   1,  75,  71,  68,  65,  60,  57,\n",
      "         74,  65,  76,  81,   1,  75,  61,  61,  75,   1,  59,  74,  57,  59,\n",
      "         67,  60,  71,  79,  70,   0,  46,  43,   1,  38,  57,  75,  65,  70,\n",
      "         57, 105,  75,   1,  79,  57,  74,   1,  71,  70,   1,  76,  61,  74,\n",
      "         74,  71,  74,   1,  63,  61,  76,  75,   1,  60,  57,  77,  63,  64,\n",
      "         76,  61,  74,   1,  39,  70,  60,  65,  57, 105,  75,   1,  78,  71,\n",
      "         76,  61,   1,  65,  70,   1,  53,  38,  45,   0,  39,  70,  60,  65,\n",
      "         57,   1,  68,  61,  57,  60,  75,   1,  65,  70,   1,  69,  65,  63,\n",
      "         74,  57,  76,  65,  71,  70,   1,  76,  71,   1,   8,  64,  65,  63,\n",
      "         64,  13,  65,  70,  59,  71,  69,  61,   8,   1,  59,  71,  77,  70,\n",
      "         76,  74,  65,  61,  75,   1,  13,   1,  74,  61,  72,  71,  74,  76,\n",
      "          0,  39,  70,  60])\n"
     ]
    }
   ],
   "source": [
    "## convert thse into tensors\n",
    "import torch\n",
    "data = torch.tensor(encode(text), dtype=torch.long)\n",
    "print(f\"Shape: {data.shape}, Type: {data.dtype}\")\n",
    "print(f\"Sample : {data[:200]}\")"
   ]
  },
  {
   "cell_type": "code",
   "execution_count": 6,
   "metadata": {},
   "outputs": [],
   "source": [
    "## Split data into train and val set\n",
    "n = int(0.9*len(data)) # 90% train, 10% val\n",
    "train_data = data[:n]\n",
    "val_data = data[n:]"
   ]
  },
  {
   "cell_type": "code",
   "execution_count": 7,
   "metadata": {},
   "outputs": [
    {
     "name": "stdout",
     "output_type": "stream",
     "text": [
      "Chunk of size 16 represented by tensor([46, 74, 71, 13, 39, 75, 74, 57, 61, 68,  1, 74, 57, 68, 68, 65, 61])\n"
     ]
    }
   ],
   "source": [
    "## We are not going to put everything together, we use batches/chunks. \n",
    "block_size = 16\n",
    "print(f\"Chunk of size {block_size} represented by {train_data[:block_size+1]}\")"
   ]
  },
  {
   "cell_type": "code",
   "execution_count": 8,
   "metadata": {},
   "outputs": [
    {
     "name": "stdout",
     "output_type": "stream",
     "text": [
      "Input: tensor([46]) ---> Target: 74\n",
      "Input: tensor([46, 74]) ---> Target: 71\n",
      "Input: tensor([46, 74, 71]) ---> Target: 13\n",
      "Input: tensor([46, 74, 71, 13]) ---> Target: 39\n",
      "Input: tensor([46, 74, 71, 13, 39]) ---> Target: 75\n",
      "Input: tensor([46, 74, 71, 13, 39, 75]) ---> Target: 74\n",
      "Input: tensor([46, 74, 71, 13, 39, 75, 74]) ---> Target: 57\n",
      "Input: tensor([46, 74, 71, 13, 39, 75, 74, 57]) ---> Target: 61\n",
      "Input: tensor([46, 74, 71, 13, 39, 75, 74, 57, 61]) ---> Target: 68\n",
      "Input: tensor([46, 74, 71, 13, 39, 75, 74, 57, 61, 68]) ---> Target: 1\n",
      "Input: tensor([46, 74, 71, 13, 39, 75, 74, 57, 61, 68,  1]) ---> Target: 74\n",
      "Input: tensor([46, 74, 71, 13, 39, 75, 74, 57, 61, 68,  1, 74]) ---> Target: 57\n",
      "Input: tensor([46, 74, 71, 13, 39, 75, 74, 57, 61, 68,  1, 74, 57]) ---> Target: 68\n",
      "Input: tensor([46, 74, 71, 13, 39, 75, 74, 57, 61, 68,  1, 74, 57, 68]) ---> Target: 68\n",
      "Input: tensor([46, 74, 71, 13, 39, 75, 74, 57, 61, 68,  1, 74, 57, 68, 68]) ---> Target: 65\n",
      "Input: tensor([46, 74, 71, 13, 39, 75, 74, 57, 61, 68,  1, 74, 57, 68, 68, 65]) ---> Target: 61\n"
     ]
    }
   ],
   "source": [
    "x = train_data[:block_size] # input data\n",
    "y = train_data[1:block_size+1] # targets\n",
    "for t in range(block_size): \n",
    "    context = x[:t+1]\n",
    "    target = y[t]\n",
    "    print(f\"Input: {context} ---> Target: {target}\")"
   ]
  },
  {
   "cell_type": "code",
   "execution_count": 9,
   "metadata": {},
   "outputs": [
    {
     "name": "stdout",
     "output_type": "stream",
     "text": [
      "Input: tensor([[76, 71,  1, 59, 71, 70, 76, 65],\n",
      "        [ 1, 60, 61, 62, 74, 57, 77, 60],\n",
      "        [61, 74,  1, 59, 71, 77, 70, 76],\n",
      "        [57, 68,  1, 74, 57, 65, 70,  0]])\n",
      "Input shape: torch.Size([4, 8])\n",
      "Target: tensor([[71,  1, 59, 71, 70, 76, 65, 70],\n",
      "        [60, 61, 62, 74, 57, 77, 60, 65],\n",
      "        [74,  1, 59, 71, 77, 70, 76, 74],\n",
      "        [68,  1, 74, 57, 65, 70,  0, 43]])\n",
      "Target shape: torch.Size([4, 8])\n",
      "--------------------------------------------------\n",
      "Input: [76] ---> Target: 71\n",
      "Input: [76, 71] ---> Target: 1\n",
      "Input: [76, 71, 1] ---> Target: 59\n",
      "Input: [76, 71, 1, 59] ---> Target: 71\n",
      "Input: [76, 71, 1, 59, 71] ---> Target: 70\n",
      "Input: [76, 71, 1, 59, 71, 70] ---> Target: 76\n",
      "Input: [76, 71, 1, 59, 71, 70, 76] ---> Target: 65\n",
      "Input: [76, 71, 1, 59, 71, 70, 76, 65] ---> Target: 70\n",
      "Input: [1] ---> Target: 60\n",
      "Input: [1, 60] ---> Target: 61\n",
      "Input: [1, 60, 61] ---> Target: 62\n",
      "Input: [1, 60, 61, 62] ---> Target: 74\n",
      "Input: [1, 60, 61, 62, 74] ---> Target: 57\n",
      "Input: [1, 60, 61, 62, 74, 57] ---> Target: 77\n",
      "Input: [1, 60, 61, 62, 74, 57, 77] ---> Target: 60\n",
      "Input: [1, 60, 61, 62, 74, 57, 77, 60] ---> Target: 65\n",
      "Input: [61] ---> Target: 74\n",
      "Input: [61, 74] ---> Target: 1\n",
      "Input: [61, 74, 1] ---> Target: 59\n",
      "Input: [61, 74, 1, 59] ---> Target: 71\n",
      "Input: [61, 74, 1, 59, 71] ---> Target: 77\n",
      "Input: [61, 74, 1, 59, 71, 77] ---> Target: 70\n",
      "Input: [61, 74, 1, 59, 71, 77, 70] ---> Target: 76\n",
      "Input: [61, 74, 1, 59, 71, 77, 70, 76] ---> Target: 74\n",
      "Input: [57] ---> Target: 68\n",
      "Input: [57, 68] ---> Target: 1\n",
      "Input: [57, 68, 1] ---> Target: 74\n",
      "Input: [57, 68, 1, 74] ---> Target: 57\n",
      "Input: [57, 68, 1, 74, 57] ---> Target: 65\n",
      "Input: [57, 68, 1, 74, 57, 65] ---> Target: 70\n",
      "Input: [57, 68, 1, 74, 57, 65, 70] ---> Target: 0\n",
      "Input: [57, 68, 1, 74, 57, 65, 70, 0] ---> Target: 43\n"
     ]
    }
   ],
   "source": [
    "## Stacking inputs and target in matrix\n",
    "\n",
    "torch.manual_seed(1337)\n",
    "batch_size = 4  # num of seq to process in parallel\n",
    "block_size = 8  # max context length\n",
    "\n",
    "def get_batch(split):\n",
    "    data = train_data if split == 'train' else val_data\n",
    "    ix = torch.randint(len(data) - block_size, (batch_size,))\n",
    "    x = torch.stack([data[i:i+block_size] for i in ix])\n",
    "    y = torch.stack([data[i+1:i+block_size+1] for i in ix])\n",
    "    return x, y\n",
    "\n",
    "xb, yb = get_batch('train')\n",
    "print(f\"Input: {xb}\")\n",
    "print(f\"Input shape: {xb.shape}\")\n",
    "\n",
    "print(f\"Target: {yb}\")\n",
    "print(f\"Target shape: {yb.shape}\")\n",
    "\n",
    "print('-'*50)\n",
    "\n",
    "## The ith element of target is the target of the ith element of input. It follows the same for rest.\n",
    "\n",
    "for b in range(batch_size): # batch dimension\n",
    "    for t in range(block_size): # time dimension\n",
    "        context = xb[b, :t+1]\n",
    "        target = yb[b,t]\n",
    "        print(f\"Input: {context.tolist()} ---> Target: {target}\")\n"
   ]
  },
  {
   "cell_type": "code",
   "execution_count": 10,
   "metadata": {},
   "outputs": [
    {
     "name": "stdout",
     "output_type": "stream",
     "text": [
      "Input to the Transformer:\n",
      "tensor([[76, 71,  1, 59, 71, 70, 76, 65],\n",
      "        [ 1, 60, 61, 62, 74, 57, 77, 60],\n",
      "        [61, 74,  1, 59, 71, 77, 70, 76],\n",
      "        [57, 68,  1, 74, 57, 65, 70,  0]])\n"
     ]
    }
   ],
   "source": [
    "## INput to transformer\n",
    "print(f\"Input to the Transformer:\\n{xb}\")"
   ]
  },
  {
   "cell_type": "code",
   "execution_count": null,
   "metadata": {},
   "outputs": [],
   "source": []
  },
  {
   "cell_type": "code",
   "execution_count": null,
   "metadata": {},
   "outputs": [],
   "source": []
  },
  {
   "cell_type": "markdown",
   "metadata": {},
   "source": [
    "## Building our Model"
   ]
  },
  {
   "cell_type": "code",
   "execution_count": 15,
   "metadata": {},
   "outputs": [
    {
     "name": "stdout",
     "output_type": "stream",
     "text": [
      "Shape of logits: torch.Size([256, 113])\n",
      "Loss: 5.100133895874023\n",
      "Logit sample: tensor([[ 0.0080,  0.9262, -1.8846,  ..., -0.3983, -0.5819, -0.2208],\n",
      "        [ 2.0530, -1.0044,  1.2277,  ..., -0.0300, -0.7128, -0.7875],\n",
      "        [ 0.3732, -1.0784, -1.0838,  ...,  0.4586, -0.8030, -0.7832],\n",
      "        ...,\n",
      "        [-0.2478, -1.4815, -0.0305,  ..., -0.0471,  1.2598,  0.5104],\n",
      "        [-0.3446, -0.9640, -0.0594,  ..., -0.0032,  0.2197,  0.8017],\n",
      "        [ 1.0753, -1.3365, -0.5952,  ...,  0.6615, -0.2995, -1.4161]],\n",
      "       grad_fn=<ViewBackward0>)\n",
      "The expected loss should be close to negative log likelihood: 4.727387818712341\n",
      "\n",
      "1”xapo oNSm;Æ0f$SCT❤%XYk@£j?Rá️#í(%1áZ)!U+7ñ/:42z|éb;c+Fwm;Æ2yy1ZV️;‘O/–​i&hí?tD’K-LZk)WE=;zNuWD(”!|\n"
     ]
    }
   ],
   "source": [
    "import torch \n",
    "import torch.nn as nn \n",
    "from torch.nn import functional as F \n",
    "import math\n",
    "torch.manual_seed(1337)\n",
    "\n",
    "n_embd = 32\n",
    "\n",
    "class LanguageModel(nn.Module):\n",
    "    \n",
    "    def __init__(self, vocal_size):\n",
    "        super().__init__()\n",
    "\n",
    "        self.token_embedding_table = nn.Embedding(vocab_size, n_embd) # this will give the logits or the score of the next token\n",
    "\n",
    "    def forward(self, idx, targets=None):\n",
    "        logits = self.token_embedding_table(idx) # (B,T,C)\n",
    "\n",
    "        if targets is None:\n",
    "            loss = None\n",
    "\n",
    "        else:\n",
    "            B, T, C = logits.shape \n",
    "            logits = logits.view(B*T, C)\n",
    "            targets = targets.view(B*T)\n",
    "            # print(f\"logits becomes of shape: {logits.view(B*T, C).shape}\")\n",
    "            # print(f\"Targets becomes of shape: {targets.view(B*T).shape}\")\n",
    "\n",
    "            # to find how well are we predicting the next chars\n",
    "            loss = F.cross_entropy(logits, targets)\n",
    "        return logits, loss\n",
    "\n",
    "    def generate(self, idx, max_new_tokens):\n",
    "        # idx is (B, T) array of indices in the current context\n",
    "        for _ in range(max_new_tokens):\n",
    "            # get the predictions\n",
    "            logits, loss = self(idx)\n",
    "            # focus only on the last time step\n",
    "            logits = logits[:, -1, :] # becomes (B, C)\n",
    "            # apply softmax to get probabilities\n",
    "            probs = F.softmax(logits, dim=-1) # (B, C)\n",
    "            # sample from the distribution\n",
    "            idx_next = torch.multinomial(probs, num_samples=1) # (B, 1)\n",
    "            # append sampled index to the running sequence\n",
    "            idx = torch.cat((idx, idx_next), dim=1) # (B, T+1)\n",
    "        return idx\n",
    "\n",
    "model = LanguageModel(vocab_size) # vocab size = 3095\n",
    "logits, loss = model(xb, yb)\n",
    "print(f\"Shape of logits: {logits.shape}\")\n",
    "print(f\"Loss: {loss}\")\n",
    "print(f\"Logit sample: {logits}\")\n",
    "print(f\"The expected loss should be close to negative log likelihood: {-math.log(1/vocab_size)}\")\n",
    "\n",
    "idx = torch.zeros((1,1), dtype=torch.long)\n",
    "max_new_tokens=100\n",
    "print(decode(model.generate(idx = torch.zeros((1, 1), dtype=torch.long), max_new_tokens=100)[0].tolist()))\n"
   ]
  },
  {
   "cell_type": "code",
   "execution_count": 40,
   "metadata": {},
   "outputs": [
    {
     "name": "stdout",
     "output_type": "stream",
     "text": [
      "2.7460267543792725\n"
     ]
    }
   ],
   "source": [
    "# Pytorch optimizer\n",
    "optimizer = torch.optim.Adam(model.parameters(), lr=0.001)\n",
    "\n",
    "batch_size = 32\n",
    "for steps in range(500): # increase number of steps for good results... \n",
    "    \n",
    "    # sample a batch of data\n",
    "    xb, yb = get_batch('train')\n",
    "\n",
    "    # evaluate the loss\n",
    "    logits, loss = model(xb, yb)\n",
    "    optimizer.zero_grad(set_to_none=True)\n",
    "    loss.backward()\n",
    "    optimizer.step()\n",
    "\n",
    "print(loss.item())\n"
   ]
  },
  {
   "cell_type": "code",
   "execution_count": 41,
   "metadata": {},
   "outputs": [
    {
     "name": "stdout",
     "output_type": "stream",
     "text": [
      "\n",
      "Istseino Maicolomin peaulas a\n",
      "K s Wetatherked at, potusre Kicighon AWel P ns ak\n",
      "CConay\n",
      "Chor fy arghi\n"
     ]
    }
   ],
   "source": [
    "print(decode(model.generate(idx = torch.zeros((1, 1), dtype=torch.long), max_new_tokens=100)[0].tolist()))"
   ]
  },
  {
   "cell_type": "markdown",
   "metadata": {},
   "source": [
    "## Transformers - Build Model"
   ]
  },
  {
   "cell_type": "code",
   "execution_count": 45,
   "metadata": {},
   "outputs": [
    {
     "data": {
      "text/plain": [
       "tensor([[[ 0.1808, -0.0700],\n",
       "         [-0.3596, -0.9152],\n",
       "         [ 0.6258,  0.0255],\n",
       "         [ 0.9545,  0.0643],\n",
       "         [ 0.3612,  1.1679],\n",
       "         [-1.3499, -0.5102],\n",
       "         [ 0.2360, -0.2398],\n",
       "         [-0.9211,  1.5433]],\n",
       "\n",
       "        [[ 1.3488, -0.1396],\n",
       "         [ 0.2858,  0.9651],\n",
       "         [-2.0371,  0.4931],\n",
       "         [ 1.4870,  0.5910],\n",
       "         [ 0.1260, -1.5627],\n",
       "         [-1.1601, -0.3348],\n",
       "         [ 0.4478, -0.8016],\n",
       "         [ 1.5236,  2.5086]],\n",
       "\n",
       "        [[-0.6631, -0.2513],\n",
       "         [ 1.0101,  0.1215],\n",
       "         [ 0.1584,  1.1340],\n",
       "         [-1.1539, -0.2984],\n",
       "         [-0.5075, -0.9239],\n",
       "         [ 0.5467, -1.4948],\n",
       "         [-1.2057,  0.5718],\n",
       "         [-0.5974, -0.6937]],\n",
       "\n",
       "        [[ 1.6455, -0.8030],\n",
       "         [ 1.3514, -0.2759],\n",
       "         [-1.5108,  2.1048],\n",
       "         [ 2.7630, -1.7465],\n",
       "         [ 1.4516, -1.5103],\n",
       "         [ 0.8212, -0.2115],\n",
       "         [ 0.7789,  1.5333],\n",
       "         [ 1.6097, -0.4032]]])"
      ]
     },
     "execution_count": 45,
     "metadata": {},
     "output_type": "execute_result"
    }
   ],
   "source": [
    "# consider the following toy example:\n",
    "\n",
    "torch.manual_seed(1337)\n",
    "B,T,C = 4,8,2 # batch, time, channels\n",
    "x = torch.randn(B,T,C)\n",
    "x"
   ]
  },
  {
   "cell_type": "code",
   "execution_count": 55,
   "metadata": {},
   "outputs": [
    {
     "name": "stdout",
     "output_type": "stream",
     "text": [
      "Lower triangular matrix:\n",
      "tensor([[1., 0., 0., 0., 0., 0., 0., 0.],\n",
      "        [1., 1., 0., 0., 0., 0., 0., 0.],\n",
      "        [1., 1., 1., 0., 0., 0., 0., 0.],\n",
      "        [1., 1., 1., 1., 0., 0., 0., 0.],\n",
      "        [1., 1., 1., 1., 1., 0., 0., 0.],\n",
      "        [1., 1., 1., 1., 1., 1., 0., 0.],\n",
      "        [1., 1., 1., 1., 1., 1., 1., 0.],\n",
      "        [1., 1., 1., 1., 1., 1., 1., 1.]])\n",
      "weights of shape: torch.Size([8, 8]) x X of shape: torch.Size([4, 8, 2])\n",
      "Output:\n",
      "tensor([[[ 0.1808, -0.0700],\n",
      "         [-0.0894, -0.4926],\n",
      "         [ 0.1490, -0.3199],\n",
      "         [ 0.3504, -0.2238],\n",
      "         [ 0.3525,  0.0545],\n",
      "         [ 0.0688, -0.0396],\n",
      "         [ 0.0927, -0.0682],\n",
      "         [-0.0341,  0.1332]],\n",
      "\n",
      "        [[ 1.3488, -0.1396],\n",
      "         [ 0.8173,  0.4127],\n",
      "         [-0.1342,  0.4395],\n",
      "         [ 0.2711,  0.4774],\n",
      "         [ 0.2421,  0.0694],\n",
      "         [ 0.0084,  0.0020],\n",
      "         [ 0.0712, -0.1128],\n",
      "         [ 0.2527,  0.2149]],\n",
      "\n",
      "        [[-0.6631, -0.2513],\n",
      "         [ 0.1735, -0.0649],\n",
      "         [ 0.1685,  0.3348],\n",
      "         [-0.1621,  0.1765],\n",
      "         [-0.2312, -0.0436],\n",
      "         [-0.1015, -0.2855],\n",
      "         [-0.2593, -0.1630],\n",
      "         [-0.3015, -0.2293]],\n",
      "\n",
      "        [[ 1.6455, -0.8030],\n",
      "         [ 1.4985, -0.5395],\n",
      "         [ 0.4954,  0.3420],\n",
      "         [ 1.0623, -0.1802],\n",
      "         [ 1.1401, -0.4462],\n",
      "         [ 1.0870, -0.4071],\n",
      "         [ 1.0430, -0.1299],\n",
      "         [ 1.1138, -0.1641]]])\n"
     ]
    }
   ],
   "source": [
    "# We want x[b,t] = mean_{i<=t} x[b,i]\n",
    "xbow = torch.zeros((B,T,C))\n",
    "for b in range(B):\n",
    "    for t in range(T):\n",
    "        xprev = x[b,:t+1] # (t,C)\n",
    "        xbow[b,t] = torch.mean(xprev, 0)\n",
    "\n",
    "# version 2: using matrix multiply for a weighted aggregation\n",
    "wei = torch.tril(torch.ones(T, T))\n",
    "print(f\"Lower triangular matrix:\\n{wei}\")\n",
    "wei = wei / wei.sum(1, keepdim=True) # normalizing the weights along row\n",
    "xbow2 = wei @ x # (B, T, T) @ (B, T, C) ----> (B, T, C) # matrix multiplication of weights and input\n",
    "print(f\"weights of shape: {wei.shape} x X of shape: {x.shape}\")\n",
    "print(f\"Output:\\n{xbow2}\")"
   ]
  },
  {
   "cell_type": "code",
   "execution_count": 58,
   "metadata": {},
   "outputs": [
    {
     "name": "stdout",
     "output_type": "stream",
     "text": [
      "Lower triangular matrix:\n",
      "tensor([[1., 0., 0., 0., 0., 0., 0., 0.],\n",
      "        [1., 1., 0., 0., 0., 0., 0., 0.],\n",
      "        [1., 1., 1., 0., 0., 0., 0., 0.],\n",
      "        [1., 1., 1., 1., 0., 0., 0., 0.],\n",
      "        [1., 1., 1., 1., 1., 0., 0., 0.],\n",
      "        [1., 1., 1., 1., 1., 1., 0., 0.],\n",
      "        [1., 1., 1., 1., 1., 1., 1., 0.],\n",
      "        [1., 1., 1., 1., 1., 1., 1., 1.]])\n",
      "zeroes matrix:\n",
      "tensor([[0., 0., 0., 0., 0., 0., 0., 0.],\n",
      "        [0., 0., 0., 0., 0., 0., 0., 0.],\n",
      "        [0., 0., 0., 0., 0., 0., 0., 0.],\n",
      "        [0., 0., 0., 0., 0., 0., 0., 0.],\n",
      "        [0., 0., 0., 0., 0., 0., 0., 0.],\n",
      "        [0., 0., 0., 0., 0., 0., 0., 0.],\n",
      "        [0., 0., 0., 0., 0., 0., 0., 0.],\n",
      "        [0., 0., 0., 0., 0., 0., 0., 0.]])\n",
      "New masked matrix:\n",
      "tensor([[0., -inf, -inf, -inf, -inf, -inf, -inf, -inf],\n",
      "        [0., 0., -inf, -inf, -inf, -inf, -inf, -inf],\n",
      "        [0., 0., 0., -inf, -inf, -inf, -inf, -inf],\n",
      "        [0., 0., 0., 0., -inf, -inf, -inf, -inf],\n",
      "        [0., 0., 0., 0., 0., -inf, -inf, -inf],\n",
      "        [0., 0., 0., 0., 0., 0., -inf, -inf],\n",
      "        [0., 0., 0., 0., 0., 0., 0., -inf],\n",
      "        [0., 0., 0., 0., 0., 0., 0., 0.]])\n",
      "Matrix after softmax:\n",
      "tensor([[0.2797, 0.1029, 0.1029, 0.1029, 0.1029, 0.1029, 0.1029, 0.1029],\n",
      "        [0.2377, 0.2377, 0.0874, 0.0874, 0.0874, 0.0874, 0.0874, 0.0874],\n",
      "        [0.2066, 0.2066, 0.2066, 0.0760, 0.0760, 0.0760, 0.0760, 0.0760],\n",
      "        [0.1828, 0.1828, 0.1828, 0.1828, 0.0672, 0.0672, 0.0672, 0.0672],\n",
      "        [0.1638, 0.1638, 0.1638, 0.1638, 0.1638, 0.0603, 0.0603, 0.0603],\n",
      "        [0.1485, 0.1485, 0.1485, 0.1485, 0.1485, 0.1485, 0.0546, 0.0546],\n",
      "        [0.1357, 0.1357, 0.1357, 0.1357, 0.1357, 0.1357, 0.1357, 0.0499],\n",
      "        [0.1250, 0.1250, 0.1250, 0.1250, 0.1250, 0.1250, 0.1250, 0.1250]])\n"
     ]
    },
    {
     "data": {
      "text/plain": [
       "False"
      ]
     },
     "execution_count": 58,
     "metadata": {},
     "output_type": "execute_result"
    }
   ],
   "source": [
    "# version 3: use Softmax\n",
    "tril = torch.tril(torch.ones(T, T))\n",
    "print(f\"Lower triangular matrix:\\n{tril}\")\n",
    "wei = torch.zeros((T,T))\n",
    "print(f\"zeroes matrix:\\n{wei}\")\n",
    "\n",
    "wei = wei.masked_fill(tril == 0, float('-inf'))\n",
    "print(f\"New masked matrix:\\n{wei}\")\n",
    "wei = F.softmax(tril, dim=-1)\n",
    "print(f\"Matrix after softmax:\\n{wei}\")\n",
    "xbow3 = wei @ x\n",
    "torch.allclose(xbow, xbow3)"
   ]
  },
  {
   "cell_type": "markdown",
   "metadata": {},
   "source": [
    "## Self Attention layer"
   ]
  },
  {
   "cell_type": "code",
   "execution_count": 70,
   "metadata": {},
   "outputs": [
    {
     "name": "stdout",
     "output_type": "stream",
     "text": [
      "Batch B: 4, Row T: 8, Features C: 32\n",
      "Linear heads:\n",
      "Key k: Linear(in_features=32, out_features=16, bias=False), Query: Linear(in_features=32, out_features=16, bias=False), Value: Linear(in_features=32, out_features=16, bias=False)\n",
      "Generating key, query and value from the features\n",
      "Generating Key and Query from input x\n",
      "Matmul of query and Key.transpose of shapes torch.Size([4, 8, 16]) and torch.Size([4, 8, 16]) respectively we get weights:\n",
      "torch.Size([4, 8, 8])\n",
      "Weights of shape: torch.Size([4, 8, 8])\n",
      "Generate value v from input of shape: torch.Size([4, 8, 16])\n",
      "And we get the output of shape torch.Size([4, 8, 16]) when wei @ x\n",
      "--------------------------------------------------\n",
      "\n",
      "- scalling of softmax is used to control the variance at initialization\n",
      "- Attention is a communication mechanism. It can be seen as a graph looking at each other. \n",
      "Our data has 8 nodes, an each node agreegates to the previous nodes. 1st node points to each self, 2nd points to 1st and itself, and it continues...\n",
      "- This is something we call autoregressive\n",
      "- These nodes have no idea where the other nodes are placed in the space, so we need positional encoding to let them know the positional information.\n",
      "- Elements doesn't talk to each other across batches. Since we have 4 batches, they only talk inside the batch.\n",
      "- If the all nodes talk to each other - it is encoder block\n",
      "- If it doesn't - it is decoder\n",
      "- In an \"encoder\" attention block just delete the single line that does masking with tril, allowing all tokens to communicate. This block here is called a \"decoder\" attention block because it has triangular masking, and is usually used in autoregressive settings, like language modeling.\n",
      "- In self attention, k, q, v comes from same space .... x-> k,q,v\n",
      "- In cross attention, say q are prduced from x, but k, v are from different space, like from an encoder. Reading info from side, a separate source, to be pulled info from. \n",
      "    \n"
     ]
    }
   ],
   "source": [
    "# version 4: self-attention!\n",
    "import torch \n",
    "from torch import nn\n",
    "from torch.nn import functional as F\n",
    "\n",
    "torch.manual_seed(1337)\n",
    "B,T,C = 4,8,32 # batch, time, channels\n",
    "x = torch.randn(B,T,C)\n",
    "\n",
    "print(f\"Batch B: {B}, Row T: {T}, Features C: {C}\")\n",
    "\n",
    "# let's see a single Head perform self-attention\n",
    "head_size = 16\n",
    "key = nn.Linear(C, head_size, bias=False)\n",
    "query = nn.Linear(C, head_size, bias=False)\n",
    "value = nn.Linear(C, head_size, bias=False)\n",
    "print(f\"Linear heads:\")\n",
    "print(f\"Key k: {key}, Query: {query}, Value: {value}\")\n",
    "print(f\"Generating key, query and value from the features\")\n",
    "\n",
    "\n",
    "k = key(x)   # (B, T, 16)\n",
    "q = query(x) # (B, T, 16)\n",
    "wei =  q @ k.transpose(-2, -1) * head_size**-0.5 # (B, T, 16) @ (B, 16, T) ---> (B, T, T) divided by sq root of heads size\n",
    "\n",
    "print(f\"Generating Key and Query from input x\")\n",
    "print(f\"Matmul of query and Key.transpose of shapes {k.shape} and {q.shape} respectively we get weights:\\n{wei.shape}\")\n",
    "\n",
    "tril = torch.tril(torch.ones(T, T))\n",
    "#wei = torch.zeros((T,T))\n",
    "wei = wei.masked_fill(tril == 0, float('-inf'))\n",
    "wei = F.softmax(wei, dim=-1)\n",
    "\n",
    "print(f\"Weights of shape: {wei.shape}\")\n",
    "\n",
    "v = value(x)\n",
    "\n",
    "print(f\"Generate value v from input of shape: {v.shape}\")\n",
    "out = wei @ v\n",
    "#out = wei @ x\n",
    "print(f\"And we get the output of shape {out.shape} when wei @ x\")\n",
    "\n",
    "print(f\"-\"*50)\n",
    "\n",
    "print(\"\"\"\n",
    "- scalling of softmax is used to control the variance at initialization\n",
    "- Attention is a communication mechanism. It can be seen as a graph looking at each other. \n",
    "Our data has 8 nodes, an each node agreegates to the previous nodes. 1st node points to each self, 2nd points to 1st and itself, and it continues...\n",
    "- This is something we call autoregressive\n",
    "- These nodes have no idea where the other nodes are placed in the space, so we need positional encoding to let them know the positional information.\n",
    "- Elements doesn't talk to each other across batches. Since we have 4 batches, they only talk inside the batch.\n",
    "- If the all nodes talk to each other - it is encoder block\n",
    "- If it doesn't - it is decoder\n",
    "- In an \"encoder\" attention block just delete the single line that does masking with tril, allowing all tokens to communicate. This block here is called a \"decoder\" attention block because it has triangular masking, and is usually used in autoregressive settings, like language modeling.\n",
    "- In self attention, k, q, v comes from same space .... x-> k,q,v\n",
    "- In cross attention, say q are prduced from x, but k, v are from different space, like from an encoder. Reading info from side, a separate source, to be pulled info from. \n",
    "    \"\"\")"
   ]
  },
  {
   "cell_type": "code",
   "execution_count": 78,
   "metadata": {},
   "outputs": [
    {
     "data": {
      "text/plain": [
       "LanguageModel(\n",
       "  (token_embedding_table): Embedding(113, 113)\n",
       ")"
      ]
     },
     "execution_count": 78,
     "metadata": {},
     "output_type": "execute_result"
    }
   ],
   "source": [
    "model"
   ]
  },
  {
   "cell_type": "code",
   "execution_count": 76,
   "metadata": {},
   "outputs": [
    {
     "ename": "FileNotFoundError",
     "evalue": "[Errno 2] No such file or directory: 'input.txt'",
     "output_type": "error",
     "traceback": [
      "\u001b[0;31m---------------------------------------------------------------------------\u001b[0m",
      "\u001b[0;31mFileNotFoundError\u001b[0m                         Traceback (most recent call last)",
      "Cell \u001b[0;32mIn[76], line 22\u001b[0m\n\u001b[1;32m     19\u001b[0m torch\u001b[38;5;241m.\u001b[39mmanual_seed(\u001b[38;5;241m1337\u001b[39m)\n\u001b[1;32m     21\u001b[0m \u001b[38;5;66;03m# wget https://raw.githubusercontent.com/karpathy/char-rnn/master/data/tinyshakespeare/input.txt\u001b[39;00m\n\u001b[0;32m---> 22\u001b[0m \u001b[38;5;28;01mwith\u001b[39;00m \u001b[38;5;28;43mopen\u001b[39;49m\u001b[43m(\u001b[49m\u001b[38;5;124;43m'\u001b[39;49m\u001b[38;5;124;43minput.txt\u001b[39;49m\u001b[38;5;124;43m'\u001b[39;49m\u001b[43m,\u001b[49m\u001b[43m \u001b[49m\u001b[38;5;124;43m'\u001b[39;49m\u001b[38;5;124;43mr\u001b[39;49m\u001b[38;5;124;43m'\u001b[39;49m\u001b[43m,\u001b[49m\u001b[43m \u001b[49m\u001b[43mencoding\u001b[49m\u001b[38;5;241;43m=\u001b[39;49m\u001b[38;5;124;43m'\u001b[39;49m\u001b[38;5;124;43mutf-8\u001b[39;49m\u001b[38;5;124;43m'\u001b[39;49m\u001b[43m)\u001b[49m \u001b[38;5;28;01mas\u001b[39;00m f:\n\u001b[1;32m     23\u001b[0m     text \u001b[38;5;241m=\u001b[39m f\u001b[38;5;241m.\u001b[39mread()\n\u001b[1;32m     25\u001b[0m \u001b[38;5;66;03m# here are all the unique characters that occur in this text\u001b[39;00m\n",
      "File \u001b[0;32m~/dev/newsgenerator/.venv/lib/python3.10/site-packages/IPython/core/interactiveshell.py:310\u001b[0m, in \u001b[0;36m_modified_open\u001b[0;34m(file, *args, **kwargs)\u001b[0m\n\u001b[1;32m    303\u001b[0m \u001b[38;5;28;01mif\u001b[39;00m file \u001b[38;5;129;01min\u001b[39;00m {\u001b[38;5;241m0\u001b[39m, \u001b[38;5;241m1\u001b[39m, \u001b[38;5;241m2\u001b[39m}:\n\u001b[1;32m    304\u001b[0m     \u001b[38;5;28;01mraise\u001b[39;00m \u001b[38;5;167;01mValueError\u001b[39;00m(\n\u001b[1;32m    305\u001b[0m         \u001b[38;5;124mf\u001b[39m\u001b[38;5;124m\"\u001b[39m\u001b[38;5;124mIPython won\u001b[39m\u001b[38;5;124m'\u001b[39m\u001b[38;5;124mt let you open fd=\u001b[39m\u001b[38;5;132;01m{\u001b[39;00mfile\u001b[38;5;132;01m}\u001b[39;00m\u001b[38;5;124m by default \u001b[39m\u001b[38;5;124m\"\u001b[39m\n\u001b[1;32m    306\u001b[0m         \u001b[38;5;124m\"\u001b[39m\u001b[38;5;124mas it is likely to crash IPython. If you know what you are doing, \u001b[39m\u001b[38;5;124m\"\u001b[39m\n\u001b[1;32m    307\u001b[0m         \u001b[38;5;124m\"\u001b[39m\u001b[38;5;124myou can use builtins\u001b[39m\u001b[38;5;124m'\u001b[39m\u001b[38;5;124m open.\u001b[39m\u001b[38;5;124m\"\u001b[39m\n\u001b[1;32m    308\u001b[0m     )\n\u001b[0;32m--> 310\u001b[0m \u001b[38;5;28;01mreturn\u001b[39;00m \u001b[43mio_open\u001b[49m\u001b[43m(\u001b[49m\u001b[43mfile\u001b[49m\u001b[43m,\u001b[49m\u001b[43m \u001b[49m\u001b[38;5;241;43m*\u001b[39;49m\u001b[43margs\u001b[49m\u001b[43m,\u001b[49m\u001b[43m \u001b[49m\u001b[38;5;241;43m*\u001b[39;49m\u001b[38;5;241;43m*\u001b[39;49m\u001b[43mkwargs\u001b[49m\u001b[43m)\u001b[49m\n",
      "\u001b[0;31mFileNotFoundError\u001b[0m: [Errno 2] No such file or directory: 'input.txt'"
     ]
    }
   ],
   "source": [
    "import torch\n",
    "import torch.nn as nn\n",
    "from torch.nn import functional as F\n",
    "\n",
    "# hyperparameters\n",
    "batch_size = 16 # how many independent sequences will we process in parallel?\n",
    "block_size = 32 # what is the maximum context length for predictions?\n",
    "max_iters = 5000\n",
    "eval_interval = 100\n",
    "learning_rate = 1e-3\n",
    "device = 'cuda' if torch.cuda.is_available() else 'cpu'\n",
    "eval_iters = 200\n",
    "n_embd = 64\n",
    "n_head = 4\n",
    "n_layer = 4\n",
    "dropout = 0.0\n",
    "# ------------\n",
    "\n",
    "torch.manual_seed(1337)\n",
    "\n",
    "# wget https://raw.githubusercontent.com/karpathy/char-rnn/master/data/tinyshakespeare/input.txt\n",
    "with open('input.txt', 'r', encoding='utf-8') as f:\n",
    "    text = f.read()\n",
    "\n",
    "# here are all the unique characters that occur in this text\n",
    "chars = sorted(list(set(text)))\n",
    "vocab_size = len(chars)\n",
    "# create a mapping from characters to integers\n",
    "stoi = { ch:i for i,ch in enumerate(chars) }\n",
    "itos = { i:ch for i,ch in enumerate(chars) }\n",
    "encode = lambda s: [stoi[c] for c in s] # encoder: take a string, output a list of integers\n",
    "decode = lambda l: ''.join([itos[i] for i in l]) # decoder: take a list of integers, output a string\n",
    "\n",
    "# Train and test splits\n",
    "data = torch.tensor(encode(text), dtype=torch.long)\n",
    "n = int(0.9*len(data)) # first 90% will be train, rest val\n",
    "train_data = data[:n]\n",
    "val_data = data[n:]\n",
    "\n",
    "# data loading\n",
    "def get_batch(split):\n",
    "    # generate a small batch of data of inputs x and targets y\n",
    "    data = train_data if split == 'train' else val_data\n",
    "    ix = torch.randint(len(data) - block_size, (batch_size,))\n",
    "    x = torch.stack([data[i:i+block_size] for i in ix])\n",
    "    y = torch.stack([data[i+1:i+block_size+1] for i in ix])\n",
    "    x, y = x.to(device), y.to(device)\n",
    "    return x, y\n",
    "\n",
    "@torch.no_grad()\n",
    "def estimate_loss():\n",
    "    out = {}\n",
    "    model.eval()\n",
    "    for split in ['train', 'val']:\n",
    "        losses = torch.zeros(eval_iters)\n",
    "        for k in range(eval_iters):\n",
    "            X, Y = get_batch(split)\n",
    "            logits, loss = model(X, Y)\n",
    "            losses[k] = loss.item()\n",
    "        out[split] = losses.mean()\n",
    "    model.train()\n",
    "    return out\n",
    "\n",
    "class Head(nn.Module):\n",
    "    \"\"\" one head of self-attention \"\"\"\n",
    "\n",
    "    def __init__(self, head_size):\n",
    "        super().__init__()\n",
    "        self.key = nn.Linear(n_embd, head_size, bias=False)\n",
    "        self.query = nn.Linear(n_embd, head_size, bias=False)\n",
    "        self.value = nn.Linear(n_embd, head_size, bias=False)\n",
    "        self.register_buffer('tril', torch.tril(torch.ones(block_size, block_size)))\n",
    "\n",
    "        self.dropout = nn.Dropout(dropout)\n",
    "\n",
    "    def forward(self, x):\n",
    "        B,T,C = x.shape\n",
    "        k = self.key(x)   # (B,T,C)\n",
    "        q = self.query(x) # (B,T,C)\n",
    "        # compute attention scores (\"affinities\")\n",
    "        wei = q @ k.transpose(-2,-1) * C**-0.5 # (B, T, C) @ (B, C, T) -> (B, T, T)\n",
    "        wei = wei.masked_fill(self.tril[:T, :T] == 0, float('-inf')) # (B, T, T)\n",
    "        wei = F.softmax(wei, dim=-1) # (B, T, T)\n",
    "        wei = self.dropout(wei)\n",
    "        # perform the weighted aggregation of the values\n",
    "        v = self.value(x) # (B,T,C)\n",
    "        out = wei @ v # (B, T, T) @ (B, T, C) -> (B, T, C)\n",
    "        return out\n",
    "\n",
    "class MultiHeadAttention(nn.Module):\n",
    "    \"\"\" multiple heads of self-attention in parallel \"\"\"\n",
    "\n",
    "    def __init__(self, num_heads, head_size):\n",
    "        super().__init__()\n",
    "        self.heads = nn.ModuleList([Head(head_size) for _ in range(num_heads)])\n",
    "        self.proj = nn.Linear(n_embd, n_embd)\n",
    "        self.dropout = nn.Dropout(dropout)\n",
    "\n",
    "    def forward(self, x):\n",
    "        out = torch.cat([h(x) for h in self.heads], dim=-1)\n",
    "        out = self.dropout(self.proj(out))\n",
    "        return out\n",
    "\n",
    "class FeedFoward(nn.Module):\n",
    "    \"\"\" a simple linear layer followed by a non-linearity \"\"\"\n",
    "\n",
    "    def __init__(self, n_embd):\n",
    "        super().__init__()\n",
    "        self.net = nn.Sequential(\n",
    "            nn.Linear(n_embd, 4 * n_embd),\n",
    "            nn.ReLU(),\n",
    "            nn.Linear(4 * n_embd, n_embd),\n",
    "            nn.Dropout(dropout),\n",
    "        )\n",
    "\n",
    "    def forward(self, x):\n",
    "        return self.net(x)\n",
    "\n",
    "class Block(nn.Module):\n",
    "    \"\"\" Transformer block: communication followed by computation \"\"\"\n",
    "\n",
    "    def __init__(self, n_embd, n_head):\n",
    "        # n_embd: embedding dimension, n_head: the number of heads we'd like\n",
    "        super().__init__()\n",
    "        head_size = n_embd // n_head\n",
    "        self.sa = MultiHeadAttention(n_head, head_size)\n",
    "        self.ffwd = FeedFoward(n_embd)\n",
    "        self.ln1 = nn.LayerNorm(n_embd)\n",
    "        self.ln2 = nn.LayerNorm(n_embd)\n",
    "\n",
    "    def forward(self, x):\n",
    "        x = x + self.sa(self.ln1(x))\n",
    "        x = x + self.ffwd(self.ln2(x))\n",
    "        return x\n",
    "\n",
    "# super simple bigram model\n",
    "class BigramLanguageModel(nn.Module):\n",
    "\n",
    "    def __init__(self):\n",
    "        super().__init__()\n",
    "        # each token directly reads off the logits for the next token from a lookup table\n",
    "        self.token_embedding_table = nn.Embedding(vocab_size, n_embd)\n",
    "        self.position_embedding_table = nn.Embedding(block_size, n_embd)\n",
    "        self.blocks = nn.Sequential(*[Block(n_embd, n_head=n_head) for _ in range(n_layer)])\n",
    "        self.ln_f = nn.LayerNorm(n_embd) # final layer norm\n",
    "        self.lm_head = nn.Linear(n_embd, vocab_size)\n",
    "\n",
    "    def forward(self, idx, targets=None):\n",
    "        B, T = idx.shape\n",
    "\n",
    "        # idx and targets are both (B,T) tensor of integers\n",
    "        tok_emb = self.token_embedding_table(idx) # (B,T,C)\n",
    "        pos_emb = self.position_embedding_table(torch.arange(T, device=device)) # (T,C)\n",
    "        x = tok_emb + pos_emb # (B,T,C)\n",
    "        x = self.blocks(x) # (B,T,C)\n",
    "        x = self.ln_f(x) # (B,T,C)\n",
    "        logits = self.lm_head(x) # (B,T,vocab_size)\n",
    "\n",
    "        if targets is None:\n",
    "            loss = None\n",
    "        else:\n",
    "            B, T, C = logits.shape\n",
    "            logits = logits.view(B*T, C)\n",
    "            targets = targets.view(B*T)\n",
    "            loss = F.cross_entropy(logits, targets)\n",
    "\n",
    "        return logits, loss\n",
    "\n",
    "    def generate(self, idx, max_new_tokens):\n",
    "        # idx is (B, T) array of indices in the current context\n",
    "        for _ in range(max_new_tokens):\n",
    "            # crop idx to the last block_size tokens\n",
    "            idx_cond = idx[:, -block_size:]\n",
    "            # get the predictions\n",
    "            logits, loss = self(idx_cond)\n",
    "            # focus only on the last time step\n",
    "            logits = logits[:, -1, :] # becomes (B, C)\n",
    "            # apply softmax to get probabilities\n",
    "            probs = F.softmax(logits, dim=-1) # (B, C)\n",
    "            # sample from the distribution\n",
    "            idx_next = torch.multinomial(probs, num_samples=1) # (B, 1)\n",
    "            # append sampled index to the running sequence\n",
    "            idx = torch.cat((idx, idx_next), dim=1) # (B, T+1)\n",
    "        return idx\n",
    "\n",
    "model = BigramLanguageModel()\n",
    "m = model.to(device)\n",
    "# print the number of parameters in the model\n",
    "print(sum(p.numel() for p in m.parameters())/1e6, 'M parameters')\n",
    "\n",
    "# create a PyTorch optimizer\n",
    "optimizer = torch.optim.AdamW(model.parameters(), lr=learning_rate)\n",
    "\n",
    "for iter in range(max_iters):\n",
    "\n",
    "    # every once in a while evaluate the loss on train and val sets\n",
    "    if iter % eval_interval == 0 or iter == max_iters - 1:\n",
    "        losses = estimate_loss()\n",
    "        print(f\"step {iter}: train loss {losses['train']:.4f}, val loss {losses['val']:.4f}\")\n",
    "\n",
    "    # sample a batch of data\n",
    "    xb, yb = get_batch('train')\n",
    "\n",
    "    # evaluate the loss\n",
    "    logits, loss = model(xb, yb)\n",
    "    optimizer.zero_grad(set_to_none=True)\n",
    "    loss.backward()\n",
    "    optimizer.step()\n",
    "\n",
    "# generate from the model\n",
    "context = torch.tensor([encode(\"India demands\")], dtype=torch.long)\n",
    "print(decode(m.generate(context, max_new_tokens=2000)[0].tolist()))\n"
   ]
  },
  {
   "cell_type": "code",
   "execution_count": 75,
   "metadata": {},
   "outputs": [
    {
     "ename": "NameError",
     "evalue": "name 'm' is not defined",
     "output_type": "error",
     "traceback": [
      "\u001b[0;31m---------------------------------------------------------------------------\u001b[0m",
      "\u001b[0;31mNameError\u001b[0m                                 Traceback (most recent call last)",
      "Cell \u001b[0;32mIn[75], line 2\u001b[0m\n\u001b[1;32m      1\u001b[0m context \u001b[38;5;241m=\u001b[39m torch\u001b[38;5;241m.\u001b[39mtensor([encode(\u001b[38;5;124m\"\u001b[39m\u001b[38;5;124mIndia demands\u001b[39m\u001b[38;5;124m\"\u001b[39m)], dtype\u001b[38;5;241m=\u001b[39mtorch\u001b[38;5;241m.\u001b[39mlong)\n\u001b[0;32m----> 2\u001b[0m \u001b[38;5;28mprint\u001b[39m(decode(\u001b[43mm\u001b[49m\u001b[38;5;241m.\u001b[39mgenerate(context, max_new_tokens\u001b[38;5;241m=\u001b[39m\u001b[38;5;241m2000\u001b[39m)[\u001b[38;5;241m0\u001b[39m]\u001b[38;5;241m.\u001b[39mtolist()))\n",
      "\u001b[0;31mNameError\u001b[0m: name 'm' is not defined"
     ]
    }
   ],
   "source": [
    "context = torch.tensor([encode(\"India demands\")], dtype=torch.long)\n",
    "print(decode(m.generate(context, max_new_tokens=2000)[0].tolist()))"
   ]
  },
  {
   "cell_type": "code",
   "execution_count": 74,
   "metadata": {},
   "outputs": [
    {
     "data": {
      "text/plain": [
       "tensor([[39, 70, 60, 65, 57,  1, 60, 61, 69, 57, 70, 60, 75]])"
      ]
     },
     "execution_count": 74,
     "metadata": {},
     "output_type": "execute_result"
    }
   ],
   "source": [
    "torch.tensor([encode(\"India demands\")], dtype=torch.long)"
   ]
  },
  {
   "cell_type": "code",
   "execution_count": 72,
   "metadata": {},
   "outputs": [
    {
     "data": {
      "text/plain": [
       "tensor([[0]])"
      ]
     },
     "execution_count": 72,
     "metadata": {},
     "output_type": "execute_result"
    }
   ],
   "source": [
    "torch.zeros((1, 1), dtype=torch.long)"
   ]
  }
 ],
 "metadata": {
  "kernelspec": {
   "display_name": ".venv",
   "language": "python",
   "name": "python3"
  },
  "language_info": {
   "codemirror_mode": {
    "name": "ipython",
    "version": 3
   },
   "file_extension": ".py",
   "mimetype": "text/x-python",
   "name": "python",
   "nbconvert_exporter": "python",
   "pygments_lexer": "ipython3",
   "version": "3.10.13"
  }
 },
 "nbformat": 4,
 "nbformat_minor": 2
}
